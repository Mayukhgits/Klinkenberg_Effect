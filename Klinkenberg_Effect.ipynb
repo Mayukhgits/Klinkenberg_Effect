{
  "nbformat": 4,
  "nbformat_minor": 0,
  "metadata": {
    "colab": {
      "provenance": [],
      "authorship_tag": "ABX9TyNO4BEbru061zxjmVw92VI+",
      "include_colab_link": true
    },
    "kernelspec": {
      "name": "python3",
      "display_name": "Python 3"
    },
    "language_info": {
      "name": "python"
    }
  },
  "cells": [
    {
      "cell_type": "markdown",
      "metadata": {
        "id": "view-in-github",
        "colab_type": "text"
      },
      "source": [
        "<a href=\"https://colab.research.google.com/github/Mayukhgits/Klinkenberg_Effect/blob/main/Klinkenberg_Effect.ipynb\" target=\"_parent\"><img src=\"https://colab.research.google.com/assets/colab-badge.svg\" alt=\"Open In Colab\"/></a>"
      ]
    },
    {
      "cell_type": "code",
      "execution_count": null,
      "metadata": {
        "id": "a5h9o826mG2i"
      },
      "outputs": [],
      "source": [
        "import matplotlib.pyplot as plt"
      ]
    },
    {
      "cell_type": "markdown",
      "source": [
        "##Klinkenberg Effect\n",
        ">It is often observed that permeability measured with air is consistently higher than with liquids due to gas slippage through pore walls. Unlike liquids, gases have a finite velocity at the grain surface, resulting in higher flow rates.\n",
        "\n",
        ">As mean pressure decreases, the apparent gas permeability increases from the true liquid (absolute) permeability. This happens when the diameter of the capillary openings approach the mean free path of the gas. Lighter the gas, more easily it can slip resulting in higher gas permeability.\n",
        "\n",
        "\n",
        "\n",
        "\n",
        "\n",
        "\n",
        "\n",
        "\n",
        "\n",
        "\n",
        "\n",
        "\n",
        "\n"
      ],
      "metadata": {
        "id": "9Xhq54awmZW_"
      }
    },
    {
      "cell_type": "markdown",
      "source": [
        "##Objective\n",
        ">Our aim is to find the absolute permeability of the core sample , from only one gas permeabilty measurement at a given mean pressure (Pm).\n",
        "\n",
        "###Governing Equations:\n",
        "\n",
        "> $$ {k_{g}}  = {k_{l}} + \\frac{c}{P_{m}} \\:\\:\\:\\:[Eq-1]$$\n",
        "\n",
        "> $$ f(k_{l}) = 6.9(k_{l})^{0.64} + P_{m}(k_{l}-k_{g}) \\:\\:\\:\\:[Eq-2]\n",
        " $$\n",
        "\n",
        "> $$ f'(k_{l}) = 4.416(k_{l})^{-0.36} + P_{m} \\:\\:\\:\\:[Eq-3]$$\n",
        "\n",
        ">where $P_{m}$ = mean pressure (psi)\n",
        "\n",
        ">$k_{g}$ = air permeability at pm (psi)\n",
        "\n",
        ">$k_{l}$ = absolute permeability or 'k' (md)\n",
        "\n",
        "                    \n",
        "\n"
      ],
      "metadata": {
        "id": "fByV-FT1p1HP"
      }
    },
    {
      "cell_type": "markdown",
      "source": [
        "##Procedure:\n",
        ">Absolute permeability ($k_{l}$) can be found by having gas permeability from a core sample at a mean pressure ($P_{m}$). This can be done by solving (Eq-2) for $f(k_{l})=0$.\n",
        "> But since this is equation is non-linear , we take help of **Newton Raphson**'s iterative method. The proposed solution method can be\n",
        "conveniently written as:\n",
        "> $$k_{i+1}=k_{i} \\:-\\: \\frac{f(k_{i})}{f'(k_{i})} $$\n",
        "\n",
        ">where $k_{i}$ = initial guess of the absolute permeability, md\n",
        "\n",
        ">$k_{i+1}$ = new permeability value to be used for the next iteration\n",
        "\n",
        ">$i$ = iteration level\n",
        "\n",
        ">$f(k_{i}$) = evaluated by using the assumed value of $k_{i}$\n",
        "\n",
        ">$f'(k_{i}$) = first-derivative of Equation 4-47 as evaluated at $k_{i}$\n",
        "\n",
        ">In this method, a random value of $k_{i}$ is assumed from which\n",
        ">$f(k_{i})$ and\n",
        ">$f'(k_{i})$ are calculated.\n",
        "Then, the new iterative permeability $k_{i+1}$ is obtained from [Eq-2] and this is repeated until $f(k_{i})$ becomes 0 or value of\n",
        ">$k_{i+1}$ converges (negligible change)."
      ],
      "metadata": {
        "id": "-wczLkiOv-Eg"
      }
    },
    {
      "cell_type": "code",
      "source": [
        "import matplotlib.pyplot as plt\n",
        "\n",
        "def klinkenberg():\n",
        "    k_g = float(input('\\nEnter gas_permeability (in md):  '))\n",
        "    p_m = float(input('Enter mean_pressure (in psia): '))\n",
        "    k_l = float(input('Assume a value for absolute_permeability (in md): '))\n",
        "\n",
        "    iteration = 0\n",
        "    max_iterations = 1000\n",
        "\n",
        "    while abs(6.9 * (k_l)**0.64 + p_m * (k_l - k_g))>0.0001 and iteration<max_iterations: #function solves the equation until the change is very small(<0.0001), indicating convergence.\n",
        "        f_kl = 6.9 * (k_l)**0.64 + p_m * (k_l - k_g)\n",
        "        f_prime_kl = 4.416 * (k_l)**(-0.36) + p_m\n",
        "        k_l = k_l - f_kl / f_prime_kl\n",
        "        iteration += 1\n",
        "\n",
        "    print(f\"\\nConverged in {iteration} iterations.\") #Displays the number of iterations and the converged value of k_l.\n",
        "    print(f\"Thus, the absolute permeability (at infinite mean pressure) is: {k_l:.6f} md\")\n",
        "\n",
        "    x = [0, 1/p_m]\n",
        "    y = [k_l, k_g]\n",
        "\n",
        "    plt.figure(figsize=(8, 4))\n",
        "    plt.plot(x, y, color='r', marker='o')\n",
        "    plt.title('Klinkenberg Effect')\n",
        "    plt.xlabel('1 / Pm ($\\\\mathrm{psia}^{-1}$)')\n",
        "\n",
        "    plt.ylabel('Kg (md)')\n",
        "    plt.xlim(left=0)\n",
        "    plt.grid(True)\n",
        "    plt.show()\n",
        "\n",
        "klinkenberg()\n"
      ],
      "metadata": {
        "colab": {
          "base_uri": "https://localhost:8080/",
          "height": 539
        },
        "id": "NP7sxU1L9B9b",
        "outputId": "aebd5cb6-2a22-463b-cad7-92d8758fa2cd"
      },
      "execution_count": null,
      "outputs": [
        {
          "output_type": "stream",
          "name": "stdout",
          "text": [
            "\n",
            "Enter gas_permeability (in md):  46.6\n",
            "Enter mean_pressure (in psia): 2.152\n",
            "Assume a value for absolute_permeability (in md): 23.66\n",
            "\n",
            "Converged in 2 iterations.\n",
            "Thus, the absolute permeability (at infinite mean pressure) is: 22.849002 md\n"
          ]
        },
        {
          "output_type": "display_data",
          "data": {
            "text/plain": [
              "<Figure size 800x400 with 1 Axes>"
            ],
            "image/png": "[encoded data removed]"
          },
          "metadata": {}
        }
      ]
    }
  ]
}